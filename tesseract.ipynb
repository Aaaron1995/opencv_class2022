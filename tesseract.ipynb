{
  "nbformat": 4,
  "nbformat_minor": 0,
  "metadata": {
    "colab": {
      "provenance": [],
      "collapsed_sections": [],
      "authorship_tag": "ABX9TyOnbp4KDKY0NtaXCERRYwwt",
      "include_colab_link": true
    },
    "kernelspec": {
      "name": "python3",
      "display_name": "Python 3"
    },
    "language_info": {
      "name": "python"
    }
  },
  "cells": [
    {
      "cell_type": "markdown",
      "metadata": {
        "id": "view-in-github",
        "colab_type": "text"
      },
      "source": [
        "<a href=\"https://colab.research.google.com/github/Aaaron1995/opencv_class2022/blob/main/tesseract.ipynb\" target=\"_parent\"><img src=\"https://colab.research.google.com/assets/colab-badge.svg\" alt=\"Open In Colab\"/></a>"
      ]
    },
    {
      "cell_type": "code",
      "execution_count": 1,
      "metadata": {
        "colab": {
          "base_uri": "https://localhost:8080/"
        },
        "id": "SX51RFxOjsCF",
        "outputId": "b3a56674-4c64-4e50-a411-0f78417292f6"
      },
      "outputs": [
        {
          "output_type": "stream",
          "name": "stdout",
          "text": [
            "Reading package lists... Done\n",
            "Building dependency tree       \n",
            "Reading state information... Done\n",
            "tesseract-ocr is already the newest version (4.00~git2288-10f4998a-2).\n",
            "The following package was automatically installed and is no longer required:\n",
            "  libnvidia-common-460\n",
            "Use 'apt autoremove' to remove it.\n",
            "0 upgraded, 0 newly installed, 0 to remove and 22 not upgraded.\n",
            "Looking in indexes: https://pypi.org/simple, https://us-python.pkg.dev/colab-wheels/public/simple/\n",
            "Requirement already satisfied: pytesseract in /usr/local/lib/python3.7/dist-packages (0.3.10)\n",
            "Requirement already satisfied: packaging>=21.3 in /usr/local/lib/python3.7/dist-packages (from pytesseract) (21.3)\n",
            "Requirement already satisfied: Pillow>=8.0.0 in /usr/local/lib/python3.7/dist-packages (from pytesseract) (9.2.0)\n",
            "Requirement already satisfied: pyparsing!=3.0.5,>=2.0.2 in /usr/local/lib/python3.7/dist-packages (from packaging>=21.3->pytesseract) (3.0.9)\n"
          ]
        }
      ],
      "source": [
        "!apt install tesseract-ocr #安裝文字辨識系統tesseract\n",
        "!pip install pytesseract #py連結函式庫\n",
        "!pip install opencv-python \n",
        "!pip install opencv-contrib-python\n",
        "!pip install numpy\n",
        "!pip install Pillow"
      ]
    },
    {
      "cell_type": "code",
      "source": [
        "import pytesseract as pt\n",
        "import cv2\n",
        "import numpy as np\n",
        "import IPython.display as dp\n",
        "from google.colab.patches import cv2_imshow\n",
        "\n",
        "d = {}\n",
        "\n",
        "img = cv2.imread(\"1.png\",1)\n",
        "img2 = cv2.inRange(img, (0, 0, 0), (50, 50, 50))\n",
        "img2 = cv2.dilate(img2, np.ones((20,20)))\n",
        "\n",
        "p, t=cv2.findContours(img2, cv2.RETR_TREE, cv2.CHAIN_APPROX_SIMPLE)\n",
        "for i in range(0, len(p)):\n",
        "  x,y,w,h = cv2.boundingRect(p[i])\n",
        "  if w>100:\n",
        "    cv2_imshow(img[y:y+h,x:x+w])\n",
        "    d[i] = pt.image_to_string(img[y:y+h,x:x+w], \"f.font\")\n",
        "    print(f\"{i}:{d[i]}\")\n",
        "print(d)\n",
        "\n",
        "k = pt.image_to_string(img, \"f.font\")\n",
        "print(k)"
      ],
      "metadata": {
        "id": "LKZa1qjS4hAw"
      },
      "execution_count": null,
      "outputs": []
    },
    {
      "cell_type": "code",
      "source": [
        "!python training.py"
      ],
      "metadata": {
        "colab": {
          "base_uri": "https://localhost:8080/"
        },
        "id": "CjGGbTZjDMnE",
        "outputId": "e843881c-1ace-4fdc-ca33-6f880b2ea1bc"
      },
      "execution_count": 38,
      "outputs": [
        {
          "output_type": "stream",
          "name": "stdout",
          "text": [
            "請輸入這個新語言包的名稱：ff\n",
            "請輸入要學習的圖檔名稱：p.png\n",
            "Tesseract Open Source OCR Engine v4.0.0-beta.1 with Leptonica\n",
            "請先確認ff.box檔案內容是否正確在按Enter鍵\n",
            "Tesseract Open Source OCR Engine v4.0.0-beta.1 with Leptonica\n",
            "FAIL!\n",
            "APPLY_BOXES: boxfile line 1/~ ((0,0),(0,0)): FAILURE! Couldn't find a matching blob\n",
            "APPLY_BOXES:\n",
            "   Boxes read from boxfile:       1\n",
            "   Boxes failed resegmentation:       1\n",
            "APPLY_BOXES: Unlabelled word at :Bounding box=(-274,-93)->(0,0)\n",
            "   Found 0 good blobs.\n",
            "   1 remaining unlabelled words deleted.\n",
            "Generated training data for 0 words\n",
            "Extracting unicharset from box file ff.box\n",
            "Wrote unicharset file unicharset\n",
            "Reading ff.tr ...\n",
            "Building master shape table\n",
            "Computing shape distances...\n",
            "Stopped with 0 merged, min dist 999.000000\n",
            "Computing shape distances...\n",
            "Stopped with 0 merged, min dist 999.000000\n",
            "Computing shape distances...\n",
            "Stopped with 0 merged, min dist 999.000000\n",
            "Computing shape distances...\n",
            "Stopped with 0 merged, min dist 999.000000\n",
            "Computing shape distances...\n",
            "Stopped with 0 merged, min dist 999.000000\n",
            "Computing shape distances...\n",
            "Stopped with 0 merged, min dist 999.000000\n",
            "Computing shape distances...\n",
            "Stopped with 0 merged, min dist 999.000000\n",
            "Master shape_table:Number of shapes = 0 max unichars = 0 number with multiple unichars = 0\n",
            "Read shape table shapetable of 0 shapes\n",
            "Reading ff.tr ...\n",
            "Warning: no protos/configs for Joined in CreateIntTemplates()\n",
            "Warning: no protos/configs for |Broken|0|1 in CreateIntTemplates()\n",
            "Warning: no protos/configs for ~ in CreateIntTemplates()\n",
            "Done!\n",
            "Reading ff.tr ...\n",
            "Clustering ...\n",
            "\n",
            "Writing normproto ...\n",
            "Combining tessdata files\n",
            "Output ff.traineddata created successfully.\n",
            "Version string:4.0.0-beta.1\n",
            "1:unicharset:size=228, offset=192\n",
            "3:inttemp:size=110682, offset=420\n",
            "4:pffmtable:size=46, offset=111102\n",
            "5:normproto:size=182, offset=111148\n",
            "13:shapetable:size=4, offset=111330\n",
            "23:version:size=12, offset=111334\n"
          ]
        }
      ]
    },
    {
      "cell_type": "code",
      "source": [],
      "metadata": {
        "id": "tsKHmWwYLjpR"
      },
      "execution_count": null,
      "outputs": []
    }
  ]
}