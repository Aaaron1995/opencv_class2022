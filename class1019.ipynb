{
  "nbformat": 4,
  "nbformat_minor": 0,
  "metadata": {
    "colab": {
      "provenance": [],
      "collapsed_sections": [],
      "authorship_tag": "ABX9TyNGSc72CmPLOPxPVuG0jvmA",
      "include_colab_link": true
    },
    "kernelspec": {
      "name": "python3",
      "display_name": "Python 3"
    },
    "language_info": {
      "name": "python"
    }
  },
  "cells": [
    {
      "cell_type": "markdown",
      "metadata": {
        "id": "view-in-github",
        "colab_type": "text"
      },
      "source": [
        "<a href=\"https://colab.research.google.com/github/Aaaron1995/opencv_class2022/blob/main/class1019.ipynb\" target=\"_parent\"><img src=\"https://colab.research.google.com/assets/colab-badge.svg\" alt=\"Open In Colab\"/></a>"
      ]
    },
    {
      "cell_type": "markdown",
      "source": [
        "# OpenCV的圖像運算\n",
        "學習目標：\n",
        "1. 圖像疊加\n",
        "2.\n",
        "3."
      ],
      "metadata": {
        "id": "m606YS932kDl"
      }
    },
    {
      "cell_type": "code",
      "execution_count": null,
      "metadata": {
        "id": "PXxJ2JRAtnT_"
      },
      "outputs": [],
      "source": [
        "!pip install opencv-python \n",
        "!pip install opencv-contrib-python\n",
        "!pip install numpy\n",
        "!pip install Pillow"
      ]
    },
    {
      "cell_type": "code",
      "source": [
        "import cv2\n",
        "import numpy as np\n",
        "import IPython.display as dp\n",
        "from google.colab.patches import cv2_imshow\n",
        "import random\n",
        "\n",
        "r_color = [(random.randint(0,255),random.randint(0,255),random.randint(0,255)) for i in range(0,3)]\n",
        "\n",
        "imgL = [np.full((100, 300, 3), r_color[i], np.uint8) for i in range(0,3)]\n",
        "imgL2 = [np.full((300, 100, 3), r_color[i], np.uint8) for i in range(0,3)]\n",
        "\n",
        "img = np.concatenate(imgL)\n",
        "img2 = np.concatenate(imgL2,axis=1)\n",
        "img3 = np.full(img.shape,(255,255,255),np.uint8) #生成與img同樣大小的純色圖片\n",
        "\n",
        "cv2_imshow(img)\n",
        "\n",
        "cv2_imshow(img2)\n",
        "\n",
        "cv2_imshow(cv2.add(img, (0,0,255,0))) #可使用數組類別生成純色圖片，要注意i[3]=0是預留給透明度的值\n",
        "\n",
        "cv2_imshow(cv2.subtract(img, (255,255,255,0)))\n",
        "\n",
        "img3 = cv2.absdiff(img, (255,255,255,0))\n",
        "cv2_imshow(img3)\n",
        "cv2_imshow(cv2.add(img, img3))"
      ],
      "metadata": {
        "colab": {
          "base_uri": "https://localhost:8080/",
          "height": 1000
        },
        "id": "TjVXiuCQxlNG",
        "outputId": "1713934d-d86c-4086-db6a-ed68bc730833"
      },
      "execution_count": 14,
      "outputs": [
        {
          "output_type": "display_data",
          "data": {
            "text/plain": [
              "<PIL.Image.Image image mode=RGB size=300x300 at 0x7F09A45F1450>"
            ],
            "image/png": "[encoded data removed]"
          },
          "metadata": {}
        },
        {
          "output_type": "display_data",
          "data": {
            "text/plain": [
              "<PIL.Image.Image image mode=RGB size=300x300 at 0x7F09A463A250>"
            ],
            "image/png": "[encoded data removed]"
          },
          "metadata": {}
        },
        {
          "output_type": "display_data",
          "data": {
            "text/plain": [
              "<PIL.Image.Image image mode=RGB size=300x300 at 0x7F09A45A51D0>"
            ],
            "image/png": "[encoded data removed]"
          },
          "metadata": {}
        },
        {
          "output_type": "display_data",
          "data": {
            "text/plain": [
              "<PIL.Image.Image image mode=RGB size=300x300 at 0x7F09A45F1490>"
            ],
            "image/png": "[encoded data removed]"
          },
          "metadata": {}
        },
        {
          "output_type": "display_data",
          "data": {
            "text/plain": [
              "<PIL.Image.Image image mode=RGB size=300x300 at 0x7F09A45F1A50>"
            ],
            "image/png": "[encoded data removed]"
          },
          "metadata": {}
        },
        {
          "output_type": "display_data",
          "data": {
            "text/plain": [
              "<PIL.Image.Image image mode=RGB size=300x300 at 0x7F09A45889D0>"
            ],
            "image/png": "[encoded data removed]"
          },
          "metadata": {}
        }
      ]
    }
  ]
}